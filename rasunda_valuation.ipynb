{
 "cells": [
  {
   "cell_type": "code",
   "execution_count": 1,
   "metadata": {},
   "outputs": [],
   "source": [
    "import pandas as pd\n",
    "import requests\n",
    "import urllib.request\n",
    "import time\n",
    "from bs4 import BeautifulSoup\n",
    "import re\n",
    "import matplotlib.pyplot as plt\n",
    "import numpy as np\n",
    "from sklearn.linear_model import LinearRegression\n",
    "import statsmodels.api as sm"
   ]
  },
  {
   "cell_type": "code",
   "execution_count": 162,
   "metadata": {},
   "outputs": [
    {
     "data": {
      "text/plain": [
       "<Response [200]>"
      ]
     },
     "execution_count": 162,
     "metadata": {},
     "output_type": "execute_result"
    }
   ],
   "source": [
    "url='https://www.hemnet.se/salda/bostader?location_ids%5B%5D=473499&item_types%5B%5D=bostadsratt&rooms_max=1&sold_age=3m'\n",
    "#url = 'https://www.hemnet.se/salda/bostader?location_ids%5B%5D=473498&item_types%5B%5D=bostadsratt&rooms_min=2&rooms_max=2&sold_age=3m'\n",
    "#imports data from 1 bedroom apartments in Råsunda sold in the last 3 months\n",
    "response = requests.get(url)\n",
    "response\n",
    "#if <Response[200]> everything is working "
   ]
  },
  {
   "cell_type": "code",
   "execution_count": 163,
   "metadata": {},
   "outputs": [],
   "source": [
    "soup = BeautifulSoup(response.text, 'html.parser')\n",
    "apartments_price=soup.findAll(\"span\", {\"class\": \"sold-property-listing__subheading sold-property-listing--left\"})\n",
    "#prints every price item in the HTML"
   ]
  },
  {
   "cell_type": "code",
   "execution_count": 164,
   "metadata": {},
   "outputs": [
    {
     "name": "stdout",
     "output_type": "stream",
     "text": [
      "\n",
      "        Slutpris 2 725 000 kr\n",
      "\n",
      "\n",
      "        Slutpris 2 025 000 kr\n",
      "\n",
      "\n",
      "        Slutpris 2 265 000 kr\n",
      "\n",
      "\n",
      "        Slutpris 2 496 000 kr\n",
      "\n",
      "\n",
      "        Slutpris 2 995 000 kr\n",
      "\n",
      "\n",
      "        Slutpris 2 715 000 kr\n",
      "\n",
      "\n",
      "        Slutpris 2 410 000 kr\n",
      "\n",
      "\n",
      "        Slutpris 2 300 000 kr\n",
      "\n",
      "\n",
      "        Slutpris 1 820 000 kr\n",
      "\n",
      "\n",
      "        Slutpris 2 520 000 kr\n",
      "\n",
      "\n",
      "        Slutpris 2 515 000 kr\n",
      "\n",
      "\n",
      "        Slutpris 2 000 000 kr\n",
      "\n",
      "\n",
      "        Slutpris 2 795 000 kr\n",
      "\n",
      "\n",
      "        Slutpris 1 950 000 kr\n",
      "\n",
      "\n",
      "        Slutpris 2 750 000 kr\n",
      "\n",
      "\n",
      "        Slutpris 2 600 000 kr\n",
      "\n",
      "\n",
      "        Slutpris 2 400 000 kr\n",
      "\n",
      "\n",
      "        Slutpris 2 300 000 kr\n",
      "\n",
      "\n",
      "        Slutpris 2 200 000 kr\n",
      "\n",
      "\n",
      "        Slutpris 2 750 000 kr\n",
      "\n",
      "\n",
      "        Slutpris 2 800 000 kr\n",
      "\n",
      "\n",
      "        Slutpris 2 750 000 kr\n",
      "\n",
      "\n",
      "        Slutpris 2 200 000 kr\n",
      "\n",
      "\n",
      "        Slutpris 2 400 000 kr\n",
      "\n",
      "\n",
      "        Slutpris 2 100 000 kr\n",
      "\n",
      "\n",
      "        Slutpris 2 320 000 kr\n",
      "\n",
      "\n",
      "        Slutpris 2 550 000 kr\n",
      "\n",
      "\n",
      "        Slutpris 2 530 000 kr\n",
      "\n",
      "\n",
      "        Slutpris 2 150 000 kr\n",
      "\n",
      "\n",
      "        Slutpris 2 125 000 kr\n",
      "\n",
      "\n",
      "        Slutpris 2 200 000 kr\n",
      "\n",
      "\n",
      "        Slutpris 1 950 000 kr\n",
      "\n",
      "\n",
      "        Slutpris 3 000 000 kr\n",
      "\n",
      "\n",
      "        Slutpris 3 130 000 kr\n",
      "\n",
      "\n",
      "        Slutpris 2 480 000 kr\n",
      "\n"
     ]
    }
   ],
   "source": [
    "for i in apartments_price:\n",
    "    print(i.string)\n",
    "    \n",
    "#As the previous cell but prettier"
   ]
  },
  {
   "cell_type": "code",
   "execution_count": 165,
   "metadata": {},
   "outputs": [
    {
     "data": {
      "text/plain": [
       "['2725000',\n",
       " '2025000',\n",
       " '2265000',\n",
       " '2496000',\n",
       " '2995000',\n",
       " '2715000',\n",
       " '2410000',\n",
       " '2300000',\n",
       " '1820000',\n",
       " '2520000',\n",
       " '2515000',\n",
       " '2000000',\n",
       " '2795000',\n",
       " '1950000',\n",
       " '2750000',\n",
       " '2600000',\n",
       " '2400000',\n",
       " '2300000',\n",
       " '2200000',\n",
       " '2750000',\n",
       " '2800000',\n",
       " '2750000',\n",
       " '2200000',\n",
       " '2400000',\n",
       " '2100000',\n",
       " '2320000',\n",
       " '2550000',\n",
       " '2530000',\n",
       " '2150000',\n",
       " '2125000',\n",
       " '2200000',\n",
       " '1950000',\n",
       " '3000000',\n",
       " '3130000',\n",
       " '2480000']"
      ]
     },
     "execution_count": 165,
     "metadata": {},
     "output_type": "execute_result"
    }
   ],
   "source": [
    "\n",
    "price_list=[]\n",
    "\n",
    "for i in apartments_price:\n",
    "    price_list.append(i.string.split()[1]+i.string.split()[2]+i.string.split()[3])\n",
    "    #splitting the strings and puts the numbers back together, makes a list of them\n",
    "price_list"
   ]
  },
  {
   "cell_type": "code",
   "execution_count": 166,
   "metadata": {},
   "outputs": [
    {
     "data": {
      "text/html": [
       "<div>\n",
       "<style scoped>\n",
       "    .dataframe tbody tr th:only-of-type {\n",
       "        vertical-align: middle;\n",
       "    }\n",
       "\n",
       "    .dataframe tbody tr th {\n",
       "        vertical-align: top;\n",
       "    }\n",
       "\n",
       "    .dataframe thead th {\n",
       "        text-align: right;\n",
       "    }\n",
       "</style>\n",
       "<table border=\"1\" class=\"dataframe\">\n",
       "  <thead>\n",
       "    <tr style=\"text-align: right;\">\n",
       "      <th></th>\n",
       "      <th>Price</th>\n",
       "    </tr>\n",
       "  </thead>\n",
       "  <tbody>\n",
       "    <tr>\n",
       "      <th>0</th>\n",
       "      <td>2725000</td>\n",
       "    </tr>\n",
       "    <tr>\n",
       "      <th>1</th>\n",
       "      <td>2025000</td>\n",
       "    </tr>\n",
       "    <tr>\n",
       "      <th>2</th>\n",
       "      <td>2265000</td>\n",
       "    </tr>\n",
       "    <tr>\n",
       "      <th>3</th>\n",
       "      <td>2496000</td>\n",
       "    </tr>\n",
       "    <tr>\n",
       "      <th>4</th>\n",
       "      <td>2995000</td>\n",
       "    </tr>\n",
       "  </tbody>\n",
       "</table>\n",
       "</div>"
      ],
      "text/plain": [
       "     Price\n",
       "0  2725000\n",
       "1  2025000\n",
       "2  2265000\n",
       "3  2496000\n",
       "4  2995000"
      ]
     },
     "execution_count": 166,
     "metadata": {},
     "output_type": "execute_result"
    }
   ],
   "source": [
    "df=pd.DataFrame(data=price_list, columns=['Price'])\n",
    "df.head()\n",
    "#makes DF of list\n"
   ]
  },
  {
   "cell_type": "code",
   "execution_count": 167,
   "metadata": {},
   "outputs": [],
   "source": [
    "apartments_size=soup.findAll(\"div\", {\"class\": \"sold-property-listing__subheading sold-property-listing--left\"})\n",
    "#repeating for apartment size"
   ]
  },
  {
   "cell_type": "code",
   "execution_count": 168,
   "metadata": {},
   "outputs": [
    {
     "data": {
      "text/plain": [
       "['34',\n",
       " '24',\n",
       " '33',\n",
       " '26',\n",
       " '49',\n",
       " '37',\n",
       " '30',\n",
       " '32',\n",
       " '20',\n",
       " '25',\n",
       " '25',\n",
       " '20',\n",
       " '43',\n",
       " '50.5',\n",
       " '37',\n",
       " '38',\n",
       " '28',\n",
       " '28',\n",
       " '26',\n",
       " '34',\n",
       " '36.5',\n",
       " '37',\n",
       " '25',\n",
       " '28',\n",
       " '22',\n",
       " '25',\n",
       " '34',\n",
       " '36',\n",
       " '27',\n",
       " '24',\n",
       " '24',\n",
       " '19.3',\n",
       " '40',\n",
       " '45.5',\n",
       " '44']"
      ]
     },
     "execution_count": 168,
     "metadata": {},
     "output_type": "execute_result"
    }
   ],
   "source": [
    "size_list=[]\n",
    "\n",
    "for i in apartments_size:\n",
    "    size_list.append(i.string.split()[0].replace(\",\",\".\"))\n",
    "    #replaces comma with point to enable conversion to float\n",
    "size_list"
   ]
  },
  {
   "cell_type": "code",
   "execution_count": 169,
   "metadata": {},
   "outputs": [
    {
     "data": {
      "text/html": [
       "<div>\n",
       "<style scoped>\n",
       "    .dataframe tbody tr th:only-of-type {\n",
       "        vertical-align: middle;\n",
       "    }\n",
       "\n",
       "    .dataframe tbody tr th {\n",
       "        vertical-align: top;\n",
       "    }\n",
       "\n",
       "    .dataframe thead th {\n",
       "        text-align: right;\n",
       "    }\n",
       "</style>\n",
       "<table border=\"1\" class=\"dataframe\">\n",
       "  <thead>\n",
       "    <tr style=\"text-align: right;\">\n",
       "      <th></th>\n",
       "      <th>Price</th>\n",
       "      <th>Size</th>\n",
       "    </tr>\n",
       "  </thead>\n",
       "  <tbody>\n",
       "    <tr>\n",
       "      <th>0</th>\n",
       "      <td>2725000</td>\n",
       "      <td>34</td>\n",
       "    </tr>\n",
       "    <tr>\n",
       "      <th>1</th>\n",
       "      <td>2025000</td>\n",
       "      <td>24</td>\n",
       "    </tr>\n",
       "    <tr>\n",
       "      <th>2</th>\n",
       "      <td>2265000</td>\n",
       "      <td>33</td>\n",
       "    </tr>\n",
       "    <tr>\n",
       "      <th>3</th>\n",
       "      <td>2496000</td>\n",
       "      <td>26</td>\n",
       "    </tr>\n",
       "    <tr>\n",
       "      <th>4</th>\n",
       "      <td>2995000</td>\n",
       "      <td>49</td>\n",
       "    </tr>\n",
       "  </tbody>\n",
       "</table>\n",
       "</div>"
      ],
      "text/plain": [
       "     Price Size\n",
       "0  2725000   34\n",
       "1  2025000   24\n",
       "2  2265000   33\n",
       "3  2496000   26\n",
       "4  2995000   49"
      ]
     },
     "execution_count": 169,
     "metadata": {},
     "output_type": "execute_result"
    }
   ],
   "source": [
    "df['Size']=size_list\n",
    "df.head()"
   ]
  },
  {
   "cell_type": "code",
   "execution_count": 170,
   "metadata": {},
   "outputs": [
    {
     "data": {
      "text/html": [
       "<div>\n",
       "<style scoped>\n",
       "    .dataframe tbody tr th:only-of-type {\n",
       "        vertical-align: middle;\n",
       "    }\n",
       "\n",
       "    .dataframe tbody tr th {\n",
       "        vertical-align: top;\n",
       "    }\n",
       "\n",
       "    .dataframe thead th {\n",
       "        text-align: right;\n",
       "    }\n",
       "</style>\n",
       "<table border=\"1\" class=\"dataframe\">\n",
       "  <thead>\n",
       "    <tr style=\"text-align: right;\">\n",
       "      <th></th>\n",
       "      <th>Price</th>\n",
       "      <th>Size</th>\n",
       "    </tr>\n",
       "  </thead>\n",
       "  <tbody>\n",
       "    <tr>\n",
       "      <th>0</th>\n",
       "      <td>2725000.0</td>\n",
       "      <td>34.0</td>\n",
       "    </tr>\n",
       "    <tr>\n",
       "      <th>1</th>\n",
       "      <td>2025000.0</td>\n",
       "      <td>24.0</td>\n",
       "    </tr>\n",
       "    <tr>\n",
       "      <th>2</th>\n",
       "      <td>2265000.0</td>\n",
       "      <td>33.0</td>\n",
       "    </tr>\n",
       "    <tr>\n",
       "      <th>3</th>\n",
       "      <td>2496000.0</td>\n",
       "      <td>26.0</td>\n",
       "    </tr>\n",
       "    <tr>\n",
       "      <th>4</th>\n",
       "      <td>2995000.0</td>\n",
       "      <td>49.0</td>\n",
       "    </tr>\n",
       "  </tbody>\n",
       "</table>\n",
       "</div>"
      ],
      "text/plain": [
       "       Price  Size\n",
       "0  2725000.0  34.0\n",
       "1  2025000.0  24.0\n",
       "2  2265000.0  33.0\n",
       "3  2496000.0  26.0\n",
       "4  2995000.0  49.0"
      ]
     },
     "execution_count": 170,
     "metadata": {},
     "output_type": "execute_result"
    }
   ],
   "source": [
    "df[\"Price\"] = pd.to_numeric(df[\"Price\"], downcast=\"float\")\n",
    "df[\"Size\"] = pd.to_numeric(df[\"Size\"], downcast=\"float\")\n",
    "#Converting from string to float\n",
    "df.head()"
   ]
  },
  {
   "cell_type": "code",
   "execution_count": 171,
   "metadata": {},
   "outputs": [
    {
     "data": {
      "text/plain": [
       "<AxesSubplot:xlabel='Size', ylabel='Price'>"
      ]
     },
     "execution_count": 171,
     "metadata": {},
     "output_type": "execute_result"
    },
    {
     "data": {
      "image/png": "[encoded data removed]",
      "text/plain": [
       "<Figure size 432x288 with 1 Axes>"
      ]
     },
     "metadata": {
      "needs_background": "light"
     },
     "output_type": "display_data"
    }
   ],
   "source": [
    "df.plot.scatter(x='Size', y='Price')"
   ]
  },
  {
   "cell_type": "code",
   "execution_count": 153,
   "metadata": {},
   "outputs": [],
   "source": [
    "df.to_excel('output.xlsx')"
   ]
  },
  {
   "cell_type": "code",
   "execution_count": 172,
   "metadata": {},
   "outputs": [
    {
     "data": {
      "text/html": [
       "<div>\n",
       "<style scoped>\n",
       "    .dataframe tbody tr th:only-of-type {\n",
       "        vertical-align: middle;\n",
       "    }\n",
       "\n",
       "    .dataframe tbody tr th {\n",
       "        vertical-align: top;\n",
       "    }\n",
       "\n",
       "    .dataframe thead th {\n",
       "        text-align: right;\n",
       "    }\n",
       "</style>\n",
       "<table border=\"1\" class=\"dataframe\">\n",
       "  <thead>\n",
       "    <tr style=\"text-align: right;\">\n",
       "      <th></th>\n",
       "      <th>Price</th>\n",
       "      <th>Size</th>\n",
       "      <th>price/m2</th>\n",
       "    </tr>\n",
       "  </thead>\n",
       "  <tbody>\n",
       "    <tr>\n",
       "      <th>0</th>\n",
       "      <td>2725000.0</td>\n",
       "      <td>34.0</td>\n",
       "      <td>80147.062500</td>\n",
       "    </tr>\n",
       "    <tr>\n",
       "      <th>1</th>\n",
       "      <td>2025000.0</td>\n",
       "      <td>24.0</td>\n",
       "      <td>84375.000000</td>\n",
       "    </tr>\n",
       "    <tr>\n",
       "      <th>2</th>\n",
       "      <td>2265000.0</td>\n",
       "      <td>33.0</td>\n",
       "      <td>68636.367188</td>\n",
       "    </tr>\n",
       "    <tr>\n",
       "      <th>3</th>\n",
       "      <td>2496000.0</td>\n",
       "      <td>26.0</td>\n",
       "      <td>96000.000000</td>\n",
       "    </tr>\n",
       "    <tr>\n",
       "      <th>4</th>\n",
       "      <td>2995000.0</td>\n",
       "      <td>49.0</td>\n",
       "      <td>61122.449219</td>\n",
       "    </tr>\n",
       "  </tbody>\n",
       "</table>\n",
       "</div>"
      ],
      "text/plain": [
       "       Price  Size      price/m2\n",
       "0  2725000.0  34.0  80147.062500\n",
       "1  2025000.0  24.0  84375.000000\n",
       "2  2265000.0  33.0  68636.367188\n",
       "3  2496000.0  26.0  96000.000000\n",
       "4  2995000.0  49.0  61122.449219"
      ]
     },
     "execution_count": 172,
     "metadata": {},
     "output_type": "execute_result"
    }
   ],
   "source": [
    "df[\"price/m2\"]=df[\"Price\"]/df[\"Size\"]\n",
    "df.head()"
   ]
  },
  {
   "cell_type": "code",
   "execution_count": 173,
   "metadata": {},
   "outputs": [
    {
     "data": {
      "text/plain": [
       "<AxesSubplot:xlabel='Size', ylabel='price/m2'>"
      ]
     },
     "execution_count": 173,
     "metadata": {},
     "output_type": "execute_result"
    },
    {
     "data": {
      "image/png": "[encoded data removed]",
      "text/plain": [
       "<Figure size 432x288 with 1 Axes>"
      ]
     },
     "metadata": {
      "needs_background": "light"
     },
     "output_type": "display_data"
    }
   ],
   "source": [
    "df.plot.scatter(x='Size', y='price/m2')"
   ]
  },
  {
   "cell_type": "code",
   "execution_count": 174,
   "metadata": {},
   "outputs": [],
   "source": [
    "X = np.array(df[\"Size\"]).reshape(-1,1)"
   ]
  },
  {
   "cell_type": "code",
   "execution_count": 175,
   "metadata": {},
   "outputs": [],
   "source": [
    "y = np.array(df[\"price/m2\"])"
   ]
  },
  {
   "cell_type": "code",
   "execution_count": 176,
   "metadata": {},
   "outputs": [
    {
     "name": "stdout",
     "output_type": "stream",
     "text": [
      "Score: 0.8256776783437271\n",
      "Coef: -1492.6871\n"
     ]
    }
   ],
   "source": [
    "reg = LinearRegression(fit_intercept=True).fit(X, y)\n",
    "print(\"Score:\",reg.score(X, y))\n",
    "print(\"Coef:\",reg.coef_[0])\n"
   ]
  },
  {
   "cell_type": "code",
   "execution_count": 178,
   "metadata": {},
   "outputs": [
    {
     "name": "stdout",
     "output_type": "stream",
     "text": [
      "My apartment is currently valued to  2686194.0  kr.\n",
      "That's a  206194.0  kr increase.\n"
     ]
    }
   ],
   "source": [
    "my_apartment_size=38\n",
    "my_apartment_cost=2480000\n",
    "my_apartment=reg.predict([[my_apartment_size]])*my_apartment_size\n",
    "my_apartment_value=round(my_apartment[0],0)\n",
    "print(\"My apartment is currently valued to \", my_apartment_value, \" kr.\")\n",
    "print(\"That's a \", my_apartment_value-my_apartment_cost, \" kr increase.\")\n"
   ]
  },
  {
   "cell_type": "code",
   "execution_count": null,
   "metadata": {},
   "outputs": [],
   "source": []
  }
 ],
 "metadata": {
  "kernelspec": {
   "display_name": "Python 3",
   "language": "python",
   "name": "python3"
  },
  "language_info": {
   "codemirror_mode": {
    "name": "ipython",
    "version": 3
   },
   "file_extension": ".py",
   "mimetype": "text/x-python",
   "name": "python",
   "nbconvert_exporter": "python",
   "pygments_lexer": "ipython3",
   "version": "3.8.5"
  }
 },
 "nbformat": 4,
 "nbformat_minor": 4
}
